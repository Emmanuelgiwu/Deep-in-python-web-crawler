{
 "cells": [
  {
   "cell_type": "code",
   "execution_count": 1,
   "metadata": {},
   "outputs": [
    {
     "name": "stdout",
     "output_type": "stream",
     "text": [
      "<_sre.SRE_Match object; span=(14, 17), match='yue'>\n"
     ]
    }
   ],
   "source": [
    "#zhengzeexpression cookie\n",
    "import re\n",
    "pattern = \"yue\"\n",
    "string = \"http://yum.iqiyue.com\"\n",
    "result = re.search(pattern,string)\n",
    "print(result)"
   ]
  },
  {
   "cell_type": "code",
   "execution_count": 5,
   "metadata": {},
   "outputs": [
    {
     "name": "stdout",
     "output_type": "stream",
     "text": [
      "<_sre.SRE_Match object; span=(9, 19), match='45pythony_'>\n",
      "None\n"
     ]
    }
   ],
   "source": [
    "import re\n",
    "pattern = \"\\w\\dpython[xyz]\\w\"\n",
    "string = \"abcdfphp345pythony_py\"\n",
    "result1 = re.search(pattern,string)\n",
    "print(result1)\n",
    "pattern2 = \"\\w\\dpython[xyz]\\w\"\n",
    "pattern3 = \"\\w\\dpython[^xyz]\\w\"\n",
    "pattern4 = \"\\w\\dpython[xyz]\\W\"\n",
    "result = re.search(pattern3,string)\n",
    "print(result)"
   ]
  },
  {
   "cell_type": "code",
   "execution_count": 25,
   "metadata": {},
   "outputs": [
    {
     "name": "stdout",
     "output_type": "stream",
     "text": [
      "<_sre.SRE_Match object; span=(14, 23), match='Python_py'>\n"
     ]
    }
   ],
   "source": [
    "#[],[^],\n",
    "import re\n",
    "pattern = \".python...\"\n",
    "pattern1 = \"^abd\"\n",
    "pattern2 = \"py$\"\n",
    "pattern3 = \"py.*y\"\n",
    "pattern33 = \"py.*?y\"\n",
    "pattern4 = \"(cd){1}\"\n",
    "pattern5 = \"cd{2,}\"\n",
    "pattern6 = \"python|php\"\n",
    "pattern7 = \"python\"\n",
    "string = \"abcddddfphp345python_py\"\n",
    "string1 = \"abcddddfphp345Python_py\"\n",
    "result = re.search(pattern4,string)\n",
    "result1 = re.search(pattern33,string1,re.I)\n",
    "print(result1)"
   ]
  },
  {
   "cell_type": "code",
   "execution_count": 31,
   "metadata": {},
   "outputs": [
    {
     "name": "stdout",
     "output_type": "stream",
     "text": [
      "(0, 8)\n",
      "<_sre.SRE_Match object; span=(14, 23), match='Python_py'>\n"
     ]
    }
   ],
   "source": [
    "#function\n",
    "import re \n",
    "string22 = \"apythonhelloemypythonhispyhonouroythonend\"\n",
    "patternk = \".python.\"\n",
    "result = re.match(patternk,string22).span()\n",
    "result2 = re.match(patternk, string22)\n",
    "print(result)\n",
    "print(result1)\n"
   ]
  },
  {
   "cell_type": "code",
   "execution_count": 37,
   "metadata": {},
   "outputs": [
    {
     "name": "stdout",
     "output_type": "stream",
     "text": [
      "phpigfanoiaphpoids241\n"
     ]
    }
   ],
   "source": [
    "import re\n",
    "string = \"sjoigfanoiasjooids241\"\n",
    "pattern = \"sjo\"\n",
    "patternn = re.compile(\"sjo\")\n",
    "result = patternn.findall(string)\n",
    "result1 = re.sub(pattern,\"php\",string,2)\n",
    "print(result1)"
   ]
  },
  {
   "cell_type": "code",
   "execution_count": 42,
   "metadata": {},
   "outputs": [
    {
     "name": "stdout",
     "output_type": "stream",
     "text": [
      "<_sre.SRE_Match object; span=(63, 84), match='c-e+o@iqianyue.com.cn'>\n"
     ]
    }
   ],
   "source": [
    "import re\n",
    "pattern = \"[a-zA-Z]+://[^\\s]*[.com|.cn]\"\n",
    "string = \"<a href = 'http://www.baidu.com'>百度首页</a>\"\n",
    "pattern1 = \"\\d{4}-\\d{7}|\\d{3}-\\d{8}\"\n",
    "string1 = \"021-67484329863723\"\n",
    "pattern2 = \"\\w+([.+-]\\w+)*@\\w+([.-]\\w+)*\\.\\w+([.-]\\w+)*\"\n",
    "string2 = \"<a href = 'http://www.baidu.com'>百度首页</a><br><a href = 'mailto:c-e+o@iqianyue.com.cn'>电子邮件地址</a>\"\n",
    "result = re.search(pattern2,string2)\n",
    "print(result)"
   ]
  },
  {
   "cell_type": "code",
   "execution_count": null,
   "metadata": {},
   "outputs": [],
   "source": []
  },
  {
   "cell_type": "code",
   "execution_count": 5,
   "metadata": {},
   "outputs": [],
   "source": [
    "import urllib.request\n",
    "import urllib.parse\n",
    "url = \"http://bbs.chinaunix.net/member.php?mod=logging&action=login&logsubmit=yes&loginhash=L768q\"\n",
    "postdata = urllib.parse.urlencode({\"username\":\"weisuen\",\"password\":\"aA123456\"}).encode('utf-8')\n",
    "req = urllib.request.Request(url,postdata)\n",
    "req.add_header('User-Agent','Mozilla/5.0 (Windows NT 10.0; Win64; x64) AppleWebKit/537.36 (KHTML, like Gecko) Chrome/74.0.3729.131 Safari/537.36')\n",
    "data = urllib.request.urlopen(req).read()\n",
    "fhandle = open(\"D:/crawler/8.html\",\"wb\")\n",
    "fhandle.write(data)\n",
    "fhandle.close()\n",
    "url2 = \"http://bbs.chinaunix.net/\"\n",
    "req2 = urllib.request.Request(url2,postdata)\n",
    "req2.add_header('User-Agent','Mozilla/5.0 (Windows NT 10.0; Win64; x64) AppleWebKit/537.36 (KHTML, like Gecko) Chrome/74.0.3729.131 Safari/537.36')\n",
    "data2 = urllib.request.urlopen(req2).read()\n",
    "fhandle = open(\"D:/crawler/7.html\",\"wb\")\n",
    "fhandle.write(data2)\n",
    "fhandle.close()"
   ]
  },
  {
   "cell_type": "code",
   "execution_count": 7,
   "metadata": {},
   "outputs": [],
   "source": [
    "import urllib.request\n",
    "import urllib.parse\n",
    "import http.cookiejar\n",
    "url = \"http://bbs.chinaunix.net/member.php?mod=logging&action=login&logsubmit=yes&loginhash=L768q\"\n",
    "postdata = urllib.parse.urlencode({\"username\":\"weisuen\",\"password\":\"aA123456\"}).encode('utf-8')\n",
    "req = urllib.request.Request(url,postdata)\n",
    "req.add_header('User-Agent','Mozilla/5.0 (Windows NT 10.0; Win64; x64) AppleWebKit/537.36 (KHTML, like Gecko) Chrome/74.0.3729.131 Safari/537.36')\n",
    "cjar = http.cookiejar.CookieJar()\n",
    "opener = urllib.request.build_opener(urllib.request.HTTPCookieProcessor(cjar))\n",
    "urllib.request.install_opener(opener)\n",
    "file = open(\"D:/crawler/9.html\",\"wb\")\n",
    "file.write(data)\n",
    "file.close()"
   ]
  },
  {
   "cell_type": "code",
   "execution_count": null,
   "metadata": {},
   "outputs": [],
   "source": []
  }
 ],
 "metadata": {
  "kernelspec": {
   "display_name": "Python 3",
   "language": "python",
   "name": "python3"
  },
  "language_info": {
   "codemirror_mode": {
    "name": "ipython",
    "version": 3
   },
   "file_extension": ".py",
   "mimetype": "text/x-python",
   "name": "python",
   "nbconvert_exporter": "python",
   "pygments_lexer": "ipython3",
   "version": "3.6.2"
  }
 },
 "nbformat": 4,
 "nbformat_minor": 2
}
